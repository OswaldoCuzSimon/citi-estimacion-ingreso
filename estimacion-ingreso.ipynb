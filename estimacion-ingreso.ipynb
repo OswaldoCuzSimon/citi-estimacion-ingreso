{
 "cells": [
  {
   "cell_type": "code",
   "execution_count": 1,
   "metadata": {},
   "outputs": [],
   "source": [
    "import pandas as pd\n",
    "from functools import reduce"
   ]
  },
  {
   "cell_type": "code",
   "execution_count": 2,
   "metadata": {},
   "outputs": [],
   "source": [
    "path = \"datajam-datasets/city/Denue012016_Agebs urbanos demograficos.xlsx\"\n",
    "xls = pd.ExcelFile(path)\n",
    "df = pd.read_excel(xls, 'Denue012016_Agebs')"
   ]
  },
  {
   "cell_type": "code",
   "execution_count": 3,
   "metadata": {},
   "outputs": [
    {
     "data": {
      "text/plain": [
       "49118"
      ]
     },
     "execution_count": 3,
     "metadata": {},
     "output_type": "execute_result"
    }
   ],
   "source": [
    "len(df)"
   ]
  },
  {
   "cell_type": "code",
   "execution_count": 4,
   "metadata": {},
   "outputs": [],
   "source": [
    "headers0 = ['CodPostal']\n",
    "headers = ['Pob_Hombres','Pob_Mujeres']\n",
    "headers2 = ['Pob_18a20', 'Pob_21a25', 'Pob_26a35', 'Pob_36a45', 'Pob_46a55', 'Pob_56a65', 'Pob_66ymas']\n",
    "\n",
    "def calcular_proporcion(headers):\n",
    "    row_len = len(headers)\n",
    "    df['total'] = df[headers].apply(lambda row: sum([row[i] for i in range(row_len)]), axis=1)\n",
    "    \n",
    "    for h in headers:\n",
    "        df[h] = df.apply(lambda row: 0 if row['total'] == 0 else row[h]/row['total'], axis=1)\n",
    "\n",
    "calcular_proporcion(headers)\n",
    "calcular_proporcion(headers2)"
   ]
  },
  {
   "cell_type": "code",
   "execution_count": 5,
   "metadata": {},
   "outputs": [
    {
     "data": {
      "text/plain": [
       "'030-3'"
      ]
     },
     "execution_count": 5,
     "metadata": {},
     "output_type": "execute_result"
    }
   ],
   "source": [
    "CodPostal = 20020\n",
    "persona = ['Pob_Hombres', 'Pob_26a35']\n",
    "def get_ageb(CodPostal, persona):\n",
    "    aux_df = df[df['CodPostal']==CodPostal][persona]\n",
    "    if aux_df.empty:\n",
    "        return None\n",
    "    aux_df['weight'] = aux_df[persona].apply(\n",
    "        lambda row: reduce(\n",
    "            lambda x, y: x * y,\n",
    "            [row[i] for i in range(len(row))]),\n",
    "        axis=1)\n",
    "    return df.loc[aux_df['weight'].idxmax(),'AGEB']\n",
    "get_ageb(CodPostal, persona)"
   ]
  },
  {
   "cell_type": "code",
   "execution_count": 6,
   "metadata": {},
   "outputs": [],
   "source": [
    "def age_mapper(edad):\n",
    "    return {\n",
    "    18 <= edad and edad <= 20: 'Pob_18a20',\n",
    "    21 <= edad and edad <= 25: 'Pob_21a25',\n",
    "    26 <= edad and edad <= 35: 'Pob_26a35',\n",
    "    36 <= edad and edad <= 45: 'Pob_36a45',\n",
    "    46 <= edad and edad <= 55: 'Pob_46a55',\n",
    "    56 <= edad and edad <= 65: 'Pob_56a65',\n",
    "    66 <= edad: 'Pob_66ymas'\n",
    "}[True]\n",
    "def sex_mapper(sex):\n",
    "    return 'Pob_Hombres' if sex == 1 else 'Pob_Mujeres'"
   ]
  },
  {
   "cell_type": "code",
   "execution_count": 7,
   "metadata": {},
   "outputs": [],
   "source": [
    "path = \"/home/kira/projects/datajam/datajam-datasets/city/Income_BASE JAM2.xlsx\"\n",
    "xls = pd.ExcelFile(path)\n",
    "in_df = pd.read_excel(xls, 'Sheet1')"
   ]
  },
  {
   "cell_type": "code",
   "execution_count": 8,
   "metadata": {},
   "outputs": [],
   "source": [
    "in_df['AGEB'] = in_df.apply(lambda row: get_ageb(row['codigo_postal'], [sex_mapper(row['V_SEX']),age_mapper(row['EDAD'])]),axis=1)"
   ]
  },
  {
   "cell_type": "code",
   "execution_count": 27,
   "metadata": {},
   "outputs": [],
   "source": [
    "clean_id_df = in_df[~pd.isna(in_df)['AGEB']]"
   ]
  },
  {
   "cell_type": "code",
   "execution_count": 31,
   "metadata": {},
   "outputs": [],
   "source": [
    "clean_id_df.to_csv('income_with_ageb.csv', sep=',', index=False)"
   ]
  },
  {
   "cell_type": "code",
   "execution_count": 10,
   "metadata": {},
   "outputs": [
    {
     "data": {
      "text/plain": [
       "0        [36630, Pob_Hombres, Pob_26a35]\n",
       "1         [2459, Pob_Mujeres, Pob_26a35]\n",
       "2        [50214, Pob_Mujeres, Pob_21a25]\n",
       "3        [43961, Pob_Hombres, Pob_26a35]\n",
       "4        [43995, Pob_Hombres, Pob_36a45]\n",
       "5        [52773, Pob_Hombres, Pob_26a35]\n",
       "6        [89602, Pob_Hombres, Pob_26a35]\n",
       "7        [53490, Pob_Hombres, Pob_56a65]\n",
       "8        [77086, Pob_Hombres, Pob_26a35]\n",
       "9        [22150, Pob_Mujeres, Pob_26a35]\n",
       "10        [1870, Pob_Mujeres, Pob_26a35]\n",
       "11       [56585, Pob_Hombres, Pob_21a25]\n",
       "12       [52924, Pob_Hombres, Pob_26a35]\n",
       "13        [1530, Pob_Hombres, Pob_36a45]\n",
       "14       [62739, Pob_Hombres, Pob_26a35]\n",
       "15        [6300, Pob_Hombres, Pob_26a35]\n",
       "16       [45613, Pob_Hombres, Pob_21a25]\n",
       "17       [41500, Pob_Mujeres, Pob_56a65]\n",
       "18       [55620, Pob_Hombres, Pob_21a25]\n",
       "19       [50000, Pob_Hombres, Pob_26a35]\n",
       "20       [68120, Pob_Hombres, Pob_21a25]\n",
       "21       [22205, Pob_Mujeres, Pob_46a55]\n",
       "22       [54469, Pob_Mujeres, Pob_21a25]\n",
       "23        [2120, Pob_Hombres, Pob_26a35]\n",
       "24       [57150, Pob_Mujeres, Pob_26a35]\n",
       "25       [50170, Pob_Mujeres, Pob_26a35]\n",
       "26        [2980, Pob_Mujeres, Pob_21a25]\n",
       "27       [56020, Pob_Hombres, Pob_26a35]\n",
       "28       [53700, Pob_Hombres, Pob_21a25]\n",
       "29       [42500, Pob_Mujeres, Pob_26a35]\n",
       "                      ...               \n",
       "14293    [98600, Pob_Mujeres, Pob_21a25]\n",
       "14294    [44970, Pob_Mujeres, Pob_46a55]\n",
       "14295    [22710, Pob_Mujeres, Pob_46a55]\n",
       "14296    [30187, Pob_Mujeres, Pob_36a45]\n",
       "14297    [45580, Pob_Mujeres, Pob_36a45]\n",
       "14298    [45580, Pob_Mujeres, Pob_21a25]\n",
       "14299    [23085, Pob_Mujeres, Pob_36a45]\n",
       "14300    [70760, Pob_Mujeres, Pob_21a25]\n",
       "14301    [30120, Pob_Mujeres, Pob_18a20]\n",
       "14302    [29940, Pob_Mujeres, Pob_26a35]\n",
       "14303    [29940, Pob_Mujeres, Pob_56a65]\n",
       "14304    [37000, Pob_Mujeres, Pob_26a35]\n",
       "14305    [56530, Pob_Mujeres, Pob_46a55]\n",
       "14306    [29140, Pob_Mujeres, Pob_46a55]\n",
       "14307    [30187, Pob_Mujeres, Pob_56a65]\n",
       "14308    [37545, Pob_Mujeres, Pob_46a55]\n",
       "14309     [9208, Pob_Mujeres, Pob_26a35]\n",
       "14310    [64820, Pob_Mujeres, Pob_26a35]\n",
       "14311    [83136, Pob_Mujeres, Pob_56a65]\n",
       "14312     [4600, Pob_Mujeres, Pob_46a55]\n",
       "14313    [16038, Pob_Mujeres, Pob_36a45]\n",
       "14314    [21240, Pob_Mujeres, Pob_36a45]\n",
       "14315    [15230, Pob_Mujeres, Pob_26a35]\n",
       "14316    [21384, Pob_Mujeres, Pob_36a45]\n",
       "14317    [15520, Pob_Mujeres, Pob_36a45]\n",
       "14318    [54140, Pob_Mujeres, Pob_26a35]\n",
       "14319    [58180, Pob_Mujeres, Pob_21a25]\n",
       "14320    [83130, Pob_Mujeres, Pob_46a55]\n",
       "14321    [15460, Pob_Mujeres, Pob_56a65]\n",
       "14322     [7220, Pob_Mujeres, Pob_26a35]\n",
       "Length: 14323, dtype: object"
      ]
     },
     "execution_count": 10,
     "metadata": {},
     "output_type": "execute_result"
    }
   ],
   "source": [
    "in_df.apply(lambda row: [row['codigo_postal'], sex_mapper(row['V_SEX']),age_mapper(row['EDAD'])],axis=1)"
   ]
  },
  {
   "cell_type": "code",
   "execution_count": 11,
   "metadata": {},
   "outputs": [
    {
     "data": {
      "text/plain": [
       "14323"
      ]
     },
     "execution_count": 11,
     "metadata": {},
     "output_type": "execute_result"
    }
   ],
   "source": [
    "len(in_df)"
   ]
  },
  {
   "cell_type": "code",
   "execution_count": null,
   "metadata": {},
   "outputs": [],
   "source": []
  }
 ],
 "metadata": {
  "kernelspec": {
   "display_name": "Python 3",
   "language": "python",
   "name": "python3"
  },
  "language_info": {
   "codemirror_mode": {
    "name": "ipython",
    "version": 3
   },
   "file_extension": ".py",
   "mimetype": "text/x-python",
   "name": "python",
   "nbconvert_exporter": "python",
   "pygments_lexer": "ipython3",
   "version": "3.6.6"
  }
 },
 "nbformat": 4,
 "nbformat_minor": 2
}
